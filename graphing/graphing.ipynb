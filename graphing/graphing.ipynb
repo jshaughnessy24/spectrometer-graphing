{
 "cells": [
  {
   "cell_type": "markdown",
   "metadata": {},
   "source": [
    "Displays some common plots given paths to nonreference and reference OceanView USB2000+ Ocean Optics spectrometer data. See code comments for usage."
   ]
  },
  {
   "cell_type": "code",
   "execution_count": null,
   "metadata": {},
   "outputs": [
    {
     "ename": "ValueError",
     "evalue": "`ydata` must not be empty!",
     "output_type": "error",
     "traceback": [
      "\u001b[1;31m---------------------------------------------------------------------------\u001b[0m",
      "\u001b[1;31mValueError\u001b[0m                                Traceback (most recent call last)",
      "Cell \u001b[1;32mIn[46], line 79\u001b[0m\n\u001b[0;32m     76\u001b[0m nonreference_df \u001b[38;5;241m=\u001b[39m stilbene_uv_df \u001b[38;5;241m-\u001b[39m stilbene_nouv_df \n\u001b[0;32m     77\u001b[0m reference_df \u001b[38;5;241m=\u001b[39m kimtech_uv_df \u001b[38;5;241m-\u001b[39m kimtech_nouv_df\n\u001b[1;32m---> 79\u001b[0m \u001b[43mdisplay_plot_of_scaled_data_fitted_to_reference\u001b[49m\u001b[43m(\u001b[49m\u001b[43mnonreference_df\u001b[49m\u001b[43m,\u001b[49m\u001b[43m \u001b[49m\u001b[43mreference_df\u001b[49m\u001b[43m,\u001b[49m\u001b[43m \u001b[49m\u001b[38;5;124;43m\"\u001b[39;49m\u001b[38;5;124;43mStilbene and Kimtech with no UV subtracted\u001b[39;49m\u001b[38;5;124;43m\"\u001b[39;49m\u001b[43m)\u001b[49m\n",
      "Cell \u001b[1;32mIn[46], line 48\u001b[0m, in \u001b[0;36mdisplay_plot_of_scaled_data_fitted_to_reference\u001b[1;34m(nonreference_df, reference_df, title)\u001b[0m\n\u001b[0;32m     46\u001b[0m \u001b[38;5;66;03m# fit data ignoring saturated values\u001b[39;00m\n\u001b[0;32m     47\u001b[0m \u001b[38;5;28mfilter\u001b[39m \u001b[38;5;241m=\u001b[39m \u001b[38;5;241m415\u001b[39m\n\u001b[1;32m---> 48\u001b[0m popt, _ \u001b[38;5;241m=\u001b[39m \u001b[43mcurve_fit\u001b[49m\u001b[43m(\u001b[49m\u001b[43mscale_func\u001b[49m\u001b[43m,\u001b[49m\u001b[43m \u001b[49m\u001b[43mnonreference_df\u001b[49m\u001b[43m[\u001b[49m\u001b[43mnonreference_df\u001b[49m\u001b[43m[\u001b[49m\u001b[38;5;124;43m'\u001b[39;49m\u001b[38;5;124;43mWavelength (nm)\u001b[39;49m\u001b[38;5;124;43m'\u001b[39;49m\u001b[43m]\u001b[49m\u001b[43m \u001b[49m\u001b[38;5;241;43m>\u001b[39;49m\u001b[43m \u001b[49m\u001b[38;5;28;43mfilter\u001b[39;49m\u001b[43m]\u001b[49m\u001b[43m[\u001b[49m\u001b[38;5;124;43m'\u001b[39;49m\u001b[38;5;124;43mIntensity\u001b[39;49m\u001b[38;5;124;43m'\u001b[39;49m\u001b[43m]\u001b[49m\u001b[43m,\u001b[49m\u001b[43m \u001b[49m\u001b[43mreference_df\u001b[49m\u001b[43m[\u001b[49m\u001b[43mreference_df\u001b[49m\u001b[43m[\u001b[49m\u001b[38;5;124;43m'\u001b[39;49m\u001b[38;5;124;43mWavelength (nm)\u001b[39;49m\u001b[38;5;124;43m'\u001b[39;49m\u001b[43m]\u001b[49m\u001b[43m \u001b[49m\u001b[38;5;241;43m>\u001b[39;49m\u001b[43m \u001b[49m\u001b[38;5;28;43mfilter\u001b[39;49m\u001b[43m]\u001b[49m\u001b[43m[\u001b[49m\u001b[38;5;124;43m'\u001b[39;49m\u001b[38;5;124;43mIntensity\u001b[39;49m\u001b[38;5;124;43m'\u001b[39;49m\u001b[43m]\u001b[49m\u001b[43m)\u001b[49m\n\u001b[0;32m     50\u001b[0m \u001b[38;5;66;03m# popt, _ = curve_fit(scale_func, nonreference_df['Intensity'], reference_df['Intensity'])\u001b[39;00m\n\u001b[0;32m     52\u001b[0m scaled_data_fitted_to_reference_df \u001b[38;5;241m=\u001b[39m reference_df\u001b[38;5;241m.\u001b[39mcopy()\n",
      "File \u001b[1;32mc:\\Users\\jrsha\\AppData\\Local\\Programs\\Python\\Python311\\Lib\\site-packages\\scipy\\optimize\\_minpack_py.py:945\u001b[0m, in \u001b[0;36mcurve_fit\u001b[1;34m(f, xdata, ydata, p0, sigma, absolute_sigma, check_finite, bounds, method, jac, full_output, nan_policy, **kwargs)\u001b[0m\n\u001b[0;32m    942\u001b[0m         xdata \u001b[38;5;241m=\u001b[39m np\u001b[38;5;241m.\u001b[39masarray(xdata, \u001b[38;5;28mfloat\u001b[39m)\n\u001b[0;32m    944\u001b[0m \u001b[38;5;28;01mif\u001b[39;00m ydata\u001b[38;5;241m.\u001b[39msize \u001b[38;5;241m==\u001b[39m \u001b[38;5;241m0\u001b[39m:\n\u001b[1;32m--> 945\u001b[0m     \u001b[38;5;28;01mraise\u001b[39;00m \u001b[38;5;167;01mValueError\u001b[39;00m(\u001b[38;5;124m\"\u001b[39m\u001b[38;5;124m`ydata` must not be empty!\u001b[39m\u001b[38;5;124m\"\u001b[39m)\n\u001b[0;32m    947\u001b[0m \u001b[38;5;66;03m# nan handling is needed only if check_finite is False because if True,\u001b[39;00m\n\u001b[0;32m    948\u001b[0m \u001b[38;5;66;03m# the x-y data are already checked, and they don't contain nans.\u001b[39;00m\n\u001b[0;32m    949\u001b[0m \u001b[38;5;28;01mif\u001b[39;00m \u001b[38;5;129;01mnot\u001b[39;00m check_finite \u001b[38;5;129;01mand\u001b[39;00m nan_policy \u001b[38;5;129;01mis\u001b[39;00m \u001b[38;5;129;01mnot\u001b[39;00m \u001b[38;5;28;01mNone\u001b[39;00m:\n",
      "\u001b[1;31mValueError\u001b[0m: `ydata` must not be empty!"
     ]
    }
   ],
   "source": [
    "import pandas as pd\n",
    "import matplotlib.pyplot as plt\n",
    "from scipy.optimize import curve_fit\n",
    "\n",
    "#  Make the notebook display matplotlib graphs\n",
    "%matplotlib widget\n",
    "\n",
    "path_to_data_folder = \"C:/Users/jrsha/UIUC/Abbamonte_research/Data\" # folder where data is stored\n",
    "\n",
    "### Given a file path to a tab-separated text file outputted by OceanView, reads the data into a dataframe \n",
    "###     renames columns to be more descriptive \n",
    "def read_ocean_optics(file_path):\n",
    "    df = pd.read_csv(file_path, sep='\\t')\n",
    "    df.rename( columns={'Unnamed: 1':'Intensity'}, inplace=True )\n",
    "    df.rename( columns={'QEP04302_1:101':'Wavelength (nm)'}, inplace=True )\n",
    "    df.drop('Unnamed: 2', axis=1, inplace=True) # empty column remnant of how data is read\n",
    "\n",
    "    # for xray room computer\n",
    "    # df = pd.read_csv(file_path, header=None, sep='\\t')\n",
    "    # df.rename( columns={1:'Intensity'}, inplace=True )\n",
    "    # df.rename( columns={0:'USB2+F01863_1:101 Wavelength (nm)'}, inplace=True )\n",
    "    return df\n",
    "\n",
    "### Displays plots that are common when given reference and nonreference data. \n",
    "### Parameters are path_to_nonreference_data followed by path_to_reference_data followed by experiment title.\n",
    "def display_common_plots_for_reference_and_nonreference_data(path_to_nonreference_data, path_to_reference_data, title):\n",
    "    nonreference_df = read_ocean_optics(path_to_nonreference_data)\n",
    "    reference_df = read_ocean_optics(path_to_reference_data)\n",
    "\n",
    "    nonreference_df.plot(x='Wavelength (nm)', kind='line', title=(title + \" Nonreference\"))\n",
    "    plt.ylabel(\"Intensity\")\n",
    "\n",
    "    reference_df.plot(x='Wavelength (nm)', kind='line', title=(title + \" Reference\"))\n",
    "    plt.ylabel(\"Intensity\")\n",
    "\n",
    "    display_plot_of_scaled_data_fitted_to_reference(nonreference_df, reference_df, title)\n",
    "\n",
    "\n",
    "### Displays plots that are common when given reference and nonreference data. \n",
    "### Parameters are nonreference_df followed by reference_df followed by experiment title.\n",
    "def display_plot_of_scaled_data_fitted_to_reference(nonreference_df, reference_df, title):\n",
    "    def scale_func(x, a):\n",
    "        return a * x\n",
    "    \n",
    "\n",
    "    # fit data ignoring saturated values\n",
    "    filter = 415\n",
    "    popt, _ = curve_fit(scale_func, nonreference_df[nonreference_df['Wavelength (nm)'] > filter]['Intensity'], reference_df[reference_df['Wavelength (nm)'] > filter]['Intensity'])\n",
    "\n",
    "    # popt, _ = curve_fit(scale_func, nonreference_df['Intensity'], reference_df['Intensity'])\n",
    "\n",
    "    scaled_data_fitted_to_reference_df = reference_df.copy()\n",
    "    scaled_data_fitted_to_reference_df.rename( columns={'Intensity': 'Reference'}, inplace=True )\n",
    "    scaled_data_fitted_to_reference_df['Nonreference'] = nonreference_df['Intensity']\n",
    "    scaled_data_fitted_to_reference_df['Scaled Nonreference'] = nonreference_df['Intensity'] * popt[0]\n",
    "    \n",
    "\n",
    "    scaled_data_fitted_to_reference_df.plot(x='Wavelength (nm)', kind='line', title=(title + \" Nonreference Scaled to Reference\"))\n",
    "    \n",
    "    diff = reference_df.copy()\n",
    "    diff['Intensity'] = scaled_data_fitted_to_reference_df['Nonreference'] - scaled_data_fitted_to_reference_df['Reference']\n",
    "    diff.plot(x='Wavelength (nm)', kind='line', title=(title + \" Difference Nonreference Scaled to Reference\"))\n",
    "    \n",
    "    # plt.xlim(594, 630)\n",
    "# display common plots usage\n",
    "# display_common_plots_for_reference_and_nonreference_data((path_to_data_folder + \"/12.17/ex2_stilbene_uv_center.txt\"), \n",
    "#                                                          (path_to_data_folder + \"/12.17/ex2_stilbene_nouv1.txt\"), \n",
    "#                                                          \"UV and No UV Stilbene\")\n",
    "\n",
    "stilbene_uv_df = read_ocean_optics(path_to_data_folder + \"/12.17/ex2_stilbene_uv_center.txt\")\n",
    "stilbene_nouv_df = read_ocean_optics(path_to_data_folder + \"/12.17/ex2_stilbene_nouv1.txt\")\n",
    "kimtech_uv_df = read_ocean_optics(path_to_data_folder + \"/12.17/ex2_kimtech_uv_center.txt\")\n",
    "kimtech_nouv_df = read_ocean_optics(path_to_data_folder + \"/12.17/ex2_kimtech_nouv.txt\")\n",
    "\n",
    "\n",
    "nonreference_df = stilbene_uv_df - stilbene_nouv_df \n",
    "reference_df = kimtech_uv_df - kimtech_nouv_df\n",
    "\n",
    "display_plot_of_scaled_data_fitted_to_reference(nonreference_df, reference_df, \"Stilbene and Kimtech with no UV subtracted\")"
   ]
  }
 ],
 "metadata": {
  "kernelspec": {
   "display_name": "Python 3",
   "language": "python",
   "name": "python3"
  },
  "language_info": {
   "codemirror_mode": {
    "name": "ipython",
    "version": 3
   },
   "file_extension": ".py",
   "mimetype": "text/x-python",
   "name": "python",
   "nbconvert_exporter": "python",
   "pygments_lexer": "ipython3",
   "version": "3.11.9"
  }
 },
 "nbformat": 4,
 "nbformat_minor": 2
}
